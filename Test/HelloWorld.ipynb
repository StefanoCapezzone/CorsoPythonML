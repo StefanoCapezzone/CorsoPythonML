{
  "nbformat": 4,
  "nbformat_minor": 0,
  "metadata": {
    "colab": {
      "name": "HelloWorld.ipynb",
      "version": "0.3.2",
      "provenance": [],
      "private_outputs": true,
      "collapsed_sections": [],
      "include_colab_link": true
    },
    "kernelspec": {
      "name": "python3",
      "display_name": "Python 3"
    }
  },
  "cells": [
    {
      "cell_type": "markdown",
      "metadata": {
        "id": "view-in-github",
        "colab_type": "text"
      },
      "source": [
        "<a href=\"https://colab.research.google.com/github/StefanoCapezzone/CorsoPythonML/blob/master/Test/HelloWorld.ipynb\" target=\"_parent\"><img src=\"https://colab.research.google.com/assets/colab-badge.svg\" alt=\"Open In Colab\"/></a>"
      ]
    },
    {
      "metadata": {
        "id": "LtJ0pfEKieux",
        "colab_type": "text"
      },
      "cell_type": "markdown",
      "source": [
        "Il **Python** è un linguaggio versatile e interattivo, sotto certi aspetti ricorda il *BASIC* degli anni '80\n",
        "\n",
        "In tutti i corsi di coding è consuetudine partire con un esempio chiamato Hello World. Nel caso del Python l'Hello World è quello riportato qui sotto:"
      ]
    },
    {
      "metadata": {
        "id": "Zc72CPil1fPc",
        "colab_type": "code",
        "colab": {}
      },
      "cell_type": "code",
      "source": [
        "print('ciao')"
      ],
      "execution_count": 0,
      "outputs": []
    }
  ]
}